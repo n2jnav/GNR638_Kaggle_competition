{
  "nbformat": 4,
  "nbformat_minor": 0,
  "metadata": {
    "accelerator": "GPU",
    "colab": {
      "name": "GNR-Kaggle_competition.ipynb",
      "provenance": [],
      "toc_visible": true
    },
    "kernelspec": {
      "display_name": "Python 3",
      "name": "python3"
    }
  },
  "cells": [
    {
      "cell_type": "code",
      "metadata": {
        "id": "5McNaqe6pNfa"
      },
      "source": [
        "import shutil\n",
        "shutil.unpack_archive(\"train.tar.xz\", \"/content/\")"
      ],
      "execution_count": null,
      "outputs": []
    },
    {
      "cell_type": "code",
      "metadata": {
        "id": "guXZ0Yd7p6mT"
      },
      "source": [
        "import tensorflow as tf\n"
      ],
      "execution_count": null,
      "outputs": []
    },
    {
      "cell_type": "code",
      "metadata": {
        "id": "zknZ2XZWqQaX"
      },
      "source": [
        "trainDir = \"/content/train/\""
      ],
      "execution_count": null,
      "outputs": []
    },
    {
      "cell_type": "code",
      "metadata": {
        "id": "811jfatVqLca",
        "outputId": "dc4ec33c-3325-4455-f44d-52b6cb263615",
        "colab": {
          "base_uri": "https://localhost:8080/",
          "height": 51
        }
      },
      "source": [
        "trainDataGen = tf.keras.preprocessing.image.ImageDataGenerator(\n",
        "              rescale=1/255.,\n",
        "              horizontal_flip=True,\n",
        "              vertical_flip=True,\n",
        "              rotation_range=90,\n",
        "              width_shift_range=0.3,\n",
        "              height_shift_range=0.3,\n",
        "              brightness_range=(0.1, 0.9),\n",
        "              zoom_range=[0.5, 1.5],\n",
        "              fill_mode='reflect',\n",
        "              channel_shift_range=150.0,\n",
        "              validation_split = 0.2)\n",
        "\n",
        "trainGen = trainDataGen.flow_from_directory(trainDir, target_size = (256, 256), class_mode=\"categorical\", subset='training')\n",
        "valGen = trainDataGen.flow_from_directory(trainDir, target_size = (256, 256), class_mode=\"categorical\", subset='validation')\n"
      ],
      "execution_count": null,
      "outputs": [
        {
          "output_type": "stream",
          "text": [
            "Found 448 images belonging to 7 classes.\n",
            "Found 112 images belonging to 7 classes.\n"
          ],
          "name": "stdout"
        }
      ]
    },
    {
      "cell_type": "code",
      "metadata": {
        "id": "liq17VXU4hPi"
      },
      "source": [
        "noSamples = 448\n",
        "bs = 32"
      ],
      "execution_count": null,
      "outputs": []
    },
    {
      "cell_type": "code",
      "metadata": {
        "id": "taY17V-t3DVx"
      },
      "source": [
        "model.save(\"fin14.h5\")"
      ],
      "execution_count": null,
      "outputs": []
    },
    {
      "cell_type": "code",
      "metadata": {
        "id": "1qG26C5e6oRE"
      },
      "source": [
        "import keras_preprocessing\n",
        "from keras_preprocessing import image\n",
        "from keras_preprocessing.image import ImageDataGenerator\n",
        "from tensorflow.keras.layers import Conv2D\n",
        "from tensorflow.keras.layers import MaxPooling2D\n",
        "from tensorflow.keras.layers import Flatten\n",
        "from tensorflow.keras.layers import Dense\n",
        "\n",
        "model = tf.keras.models.Sequential()\n",
        "model.add(Conv2D(32, (3, 3), activation='relu', kernel_initializer='he_uniform', padding='same', input_shape=(256, 256, 3)))\n",
        "model.add(Conv2D(32, (3, 3), activation='relu', kernel_initializer='he_uniform', padding='same'))\n",
        "model.add(MaxPooling2D((2, 2)))\n",
        "model.add(Conv2D(64, (3, 3), activation='relu', kernel_initializer='he_uniform', padding='same'))\n",
        "model.add(Conv2D(64, (3, 3), activation='relu', kernel_initializer='he_uniform', padding='same'))\n",
        "model.add(MaxPooling2D((2, 2)))\n",
        "model.add(Conv2D(128, (3, 3), activation='relu', kernel_initializer='he_uniform', padding='same'))\n",
        "model.add(Conv2D(128, (3, 3), activation='relu', kernel_initializer='he_uniform', padding='same'))\n",
        "model.add(MaxPooling2D((2, 2)))\n",
        "model.add(Flatten())\n",
        "model.add(Dense(128, activation='relu', kernel_initializer='he_uniform'))\n",
        "model.add(Dense(7, activation='softmax'))\n",
        "# compile model\n",
        "opt = tf.keras.optimizers.SGD(lr=0.01, momentum=0.9)\n",
        "model.compile(optimizer='adam', loss='categorical_crossentropy', metrics=['accuracy'])"
      ],
      "execution_count": null,
      "outputs": []
    },
    {
      "cell_type": "code",
      "metadata": {
        "id": "PYsMWoWP6x6f",
        "outputId": "f695f810-6c96-4770-b1c2-926305cf4bf6",
        "colab": {
          "base_uri": "https://localhost:8080/",
          "height": 1000
        }
      },
      "source": [
        "history = model.fit(trainGen, epochs=150, steps_per_epoch=noSamples//bs,\n",
        "                    validation_data = valGen, \n",
        "                    verbose = 1)\n",
        "                    # validation_steps=2)\n"
      ],
      "execution_count": null,
      "outputs": [
        {
          "output_type": "stream",
          "text": [
            "Epoch 1/150\n",
            "14/14 [==============================] - 12s 823ms/step - loss: 1.9463 - accuracy: 0.1518 - val_loss: 1.9458 - val_accuracy: 0.1696\n",
            "Epoch 2/150\n",
            "14/14 [==============================] - 10s 739ms/step - loss: 1.9455 - accuracy: 0.1250 - val_loss: 1.9439 - val_accuracy: 0.1429\n",
            "Epoch 3/150\n",
            "14/14 [==============================] - 10s 739ms/step - loss: 1.9456 - accuracy: 0.1540 - val_loss: 1.9408 - val_accuracy: 0.2054\n",
            "Epoch 4/150\n",
            "14/14 [==============================] - 10s 733ms/step - loss: 1.9351 - accuracy: 0.1607 - val_loss: 1.9412 - val_accuracy: 0.1607\n",
            "Epoch 5/150\n",
            "14/14 [==============================] - 10s 732ms/step - loss: 1.9262 - accuracy: 0.1629 - val_loss: 1.9087 - val_accuracy: 0.2232\n",
            "Epoch 6/150\n",
            "14/14 [==============================] - 10s 729ms/step - loss: 1.9038 - accuracy: 0.2388 - val_loss: 1.9038 - val_accuracy: 0.1696\n",
            "Epoch 7/150\n",
            "14/14 [==============================] - 10s 732ms/step - loss: 1.8149 - accuracy: 0.2589 - val_loss: 1.8515 - val_accuracy: 0.2589\n",
            "Epoch 8/150\n",
            "14/14 [==============================] - 10s 730ms/step - loss: 1.7152 - accuracy: 0.3237 - val_loss: 1.8433 - val_accuracy: 0.2857\n",
            "Epoch 9/150\n",
            "14/14 [==============================] - 10s 728ms/step - loss: 1.6425 - accuracy: 0.3482 - val_loss: 1.7338 - val_accuracy: 0.2946\n",
            "Epoch 10/150\n",
            "14/14 [==============================] - 10s 726ms/step - loss: 1.5945 - accuracy: 0.3951 - val_loss: 1.7616 - val_accuracy: 0.3214\n",
            "Epoch 11/150\n",
            "14/14 [==============================] - 10s 724ms/step - loss: 1.6275 - accuracy: 0.3438 - val_loss: 1.6011 - val_accuracy: 0.3661\n",
            "Epoch 12/150\n",
            "14/14 [==============================] - 10s 724ms/step - loss: 1.5807 - accuracy: 0.4263 - val_loss: 1.5177 - val_accuracy: 0.3750\n",
            "Epoch 13/150\n",
            "14/14 [==============================] - 10s 735ms/step - loss: 1.8180 - accuracy: 0.2567 - val_loss: 1.7387 - val_accuracy: 0.3036\n",
            "Epoch 14/150\n",
            "14/14 [==============================] - 10s 725ms/step - loss: 1.6317 - accuracy: 0.3438 - val_loss: 1.5477 - val_accuracy: 0.4018\n",
            "Epoch 15/150\n",
            "14/14 [==============================] - 10s 724ms/step - loss: 1.4820 - accuracy: 0.4018 - val_loss: 1.3288 - val_accuracy: 0.5000\n",
            "Epoch 16/150\n",
            "14/14 [==============================] - 10s 725ms/step - loss: 1.5277 - accuracy: 0.4196 - val_loss: 1.6867 - val_accuracy: 0.2857\n",
            "Epoch 17/150\n",
            "14/14 [==============================] - 10s 725ms/step - loss: 1.6096 - accuracy: 0.4040 - val_loss: 1.5124 - val_accuracy: 0.4286\n",
            "Epoch 18/150\n",
            "14/14 [==============================] - 10s 728ms/step - loss: 1.6024 - accuracy: 0.3460 - val_loss: 1.7442 - val_accuracy: 0.2321\n",
            "Epoch 19/150\n",
            "14/14 [==============================] - 10s 727ms/step - loss: 1.6083 - accuracy: 0.3571 - val_loss: 1.5085 - val_accuracy: 0.4554\n",
            "Epoch 20/150\n",
            "14/14 [==============================] - 10s 725ms/step - loss: 1.4668 - accuracy: 0.3973 - val_loss: 1.4849 - val_accuracy: 0.4196\n",
            "Epoch 21/150\n",
            "14/14 [==============================] - 10s 722ms/step - loss: 1.4658 - accuracy: 0.3661 - val_loss: 1.3301 - val_accuracy: 0.4732\n",
            "Epoch 22/150\n",
            "14/14 [==============================] - 10s 724ms/step - loss: 1.3713 - accuracy: 0.4911 - val_loss: 1.2026 - val_accuracy: 0.5179\n",
            "Epoch 23/150\n",
            "14/14 [==============================] - 10s 730ms/step - loss: 1.3005 - accuracy: 0.5446 - val_loss: 1.3122 - val_accuracy: 0.4286\n",
            "Epoch 24/150\n",
            "14/14 [==============================] - 10s 730ms/step - loss: 1.3218 - accuracy: 0.5022 - val_loss: 1.1294 - val_accuracy: 0.5893\n",
            "Epoch 25/150\n",
            "14/14 [==============================] - 10s 720ms/step - loss: 1.2221 - accuracy: 0.5335 - val_loss: 1.2690 - val_accuracy: 0.5536\n",
            "Epoch 26/150\n",
            "14/14 [==============================] - 10s 721ms/step - loss: 1.3442 - accuracy: 0.5379 - val_loss: 1.4919 - val_accuracy: 0.3839\n",
            "Epoch 27/150\n",
            "14/14 [==============================] - 10s 721ms/step - loss: 1.2159 - accuracy: 0.5379 - val_loss: 1.0288 - val_accuracy: 0.6071\n",
            "Epoch 28/150\n",
            "14/14 [==============================] - 10s 716ms/step - loss: 1.1608 - accuracy: 0.5714 - val_loss: 1.3474 - val_accuracy: 0.4821\n",
            "Epoch 29/150\n",
            "14/14 [==============================] - 10s 723ms/step - loss: 1.1934 - accuracy: 0.5759 - val_loss: 1.1793 - val_accuracy: 0.6696\n",
            "Epoch 30/150\n",
            "14/14 [==============================] - 10s 723ms/step - loss: 1.1562 - accuracy: 0.5737 - val_loss: 0.9965 - val_accuracy: 0.6875\n",
            "Epoch 31/150\n",
            "14/14 [==============================] - 10s 716ms/step - loss: 1.1423 - accuracy: 0.6250 - val_loss: 0.9871 - val_accuracy: 0.6250\n",
            "Epoch 32/150\n",
            "14/14 [==============================] - 10s 717ms/step - loss: 0.9999 - accuracy: 0.6071 - val_loss: 1.1685 - val_accuracy: 0.5357\n",
            "Epoch 33/150\n",
            "14/14 [==============================] - 10s 718ms/step - loss: 1.0165 - accuracy: 0.6161 - val_loss: 1.0711 - val_accuracy: 0.5982\n",
            "Epoch 34/150\n",
            "14/14 [==============================] - 10s 719ms/step - loss: 1.1030 - accuracy: 0.5647 - val_loss: 1.1439 - val_accuracy: 0.6339\n",
            "Epoch 35/150\n",
            "14/14 [==============================] - 10s 719ms/step - loss: 1.1944 - accuracy: 0.5647 - val_loss: 1.2433 - val_accuracy: 0.5357\n",
            "Epoch 36/150\n",
            "14/14 [==============================] - 10s 717ms/step - loss: 0.9541 - accuracy: 0.6518 - val_loss: 0.8423 - val_accuracy: 0.6607\n",
            "Epoch 37/150\n",
            "14/14 [==============================] - 10s 718ms/step - loss: 0.9599 - accuracy: 0.6295 - val_loss: 1.0124 - val_accuracy: 0.6518\n",
            "Epoch 38/150\n",
            "14/14 [==============================] - 10s 724ms/step - loss: 0.8978 - accuracy: 0.6585 - val_loss: 1.0589 - val_accuracy: 0.6875\n",
            "Epoch 39/150\n",
            "14/14 [==============================] - 10s 724ms/step - loss: 0.9082 - accuracy: 0.6473 - val_loss: 1.0015 - val_accuracy: 0.6161\n",
            "Epoch 40/150\n",
            "14/14 [==============================] - 10s 724ms/step - loss: 0.9936 - accuracy: 0.5893 - val_loss: 0.8269 - val_accuracy: 0.6964\n",
            "Epoch 41/150\n",
            "14/14 [==============================] - 10s 722ms/step - loss: 0.8319 - accuracy: 0.6674 - val_loss: 0.7557 - val_accuracy: 0.7411\n",
            "Epoch 42/150\n",
            "14/14 [==============================] - 10s 731ms/step - loss: 0.8300 - accuracy: 0.6607 - val_loss: 0.8025 - val_accuracy: 0.6518\n",
            "Epoch 43/150\n",
            "14/14 [==============================] - 10s 723ms/step - loss: 0.9352 - accuracy: 0.6317 - val_loss: 0.8882 - val_accuracy: 0.7054\n",
            "Epoch 44/150\n",
            "14/14 [==============================] - 10s 724ms/step - loss: 0.8466 - accuracy: 0.6629 - val_loss: 0.8014 - val_accuracy: 0.6786\n",
            "Epoch 45/150\n",
            "14/14 [==============================] - 10s 724ms/step - loss: 0.7018 - accuracy: 0.7366 - val_loss: 0.7947 - val_accuracy: 0.6696\n",
            "Epoch 46/150\n",
            "14/14 [==============================] - 10s 724ms/step - loss: 0.7458 - accuracy: 0.6875 - val_loss: 0.6499 - val_accuracy: 0.7589\n",
            "Epoch 47/150\n",
            "14/14 [==============================] - 10s 727ms/step - loss: 0.6539 - accuracy: 0.7321 - val_loss: 0.9036 - val_accuracy: 0.6429\n",
            "Epoch 48/150\n",
            "14/14 [==============================] - 10s 725ms/step - loss: 0.8241 - accuracy: 0.6786 - val_loss: 0.8978 - val_accuracy: 0.6964\n",
            "Epoch 49/150\n",
            "14/14 [==============================] - 10s 717ms/step - loss: 0.8352 - accuracy: 0.6808 - val_loss: 0.7291 - val_accuracy: 0.7411\n",
            "Epoch 50/150\n",
            "14/14 [==============================] - 10s 724ms/step - loss: 0.8422 - accuracy: 0.6629 - val_loss: 0.7118 - val_accuracy: 0.7411\n",
            "Epoch 51/150\n",
            "14/14 [==============================] - 10s 732ms/step - loss: 0.7351 - accuracy: 0.7143 - val_loss: 0.8567 - val_accuracy: 0.6607\n",
            "Epoch 52/150\n",
            "14/14 [==============================] - 10s 718ms/step - loss: 0.7249 - accuracy: 0.6875 - val_loss: 0.7807 - val_accuracy: 0.6607\n",
            "Epoch 53/150\n",
            "14/14 [==============================] - 10s 716ms/step - loss: 0.7399 - accuracy: 0.7299 - val_loss: 0.7542 - val_accuracy: 0.7054\n",
            "Epoch 54/150\n",
            "14/14 [==============================] - 10s 715ms/step - loss: 0.6882 - accuracy: 0.7388 - val_loss: 0.7725 - val_accuracy: 0.7054\n",
            "Epoch 55/150\n",
            "14/14 [==============================] - 10s 718ms/step - loss: 0.6439 - accuracy: 0.7612 - val_loss: 0.8453 - val_accuracy: 0.7054\n",
            "Epoch 56/150\n",
            "14/14 [==============================] - 10s 722ms/step - loss: 0.7600 - accuracy: 0.6964 - val_loss: 0.8295 - val_accuracy: 0.7232\n",
            "Epoch 57/150\n",
            "14/14 [==============================] - 10s 722ms/step - loss: 0.8670 - accuracy: 0.6652 - val_loss: 0.7957 - val_accuracy: 0.7232\n",
            "Epoch 58/150\n",
            "14/14 [==============================] - 10s 723ms/step - loss: 0.7660 - accuracy: 0.7143 - val_loss: 0.9597 - val_accuracy: 0.6429\n",
            "Epoch 59/150\n",
            "14/14 [==============================] - 10s 722ms/step - loss: 0.7693 - accuracy: 0.6987 - val_loss: 0.8884 - val_accuracy: 0.6607\n",
            "Epoch 60/150\n",
            "14/14 [==============================] - 10s 714ms/step - loss: 0.7282 - accuracy: 0.7098 - val_loss: 0.8518 - val_accuracy: 0.6607\n",
            "Epoch 61/150\n",
            "14/14 [==============================] - 10s 718ms/step - loss: 0.7119 - accuracy: 0.7299 - val_loss: 0.8665 - val_accuracy: 0.6875\n",
            "Epoch 62/150\n",
            "14/14 [==============================] - 10s 719ms/step - loss: 0.7889 - accuracy: 0.7031 - val_loss: 0.7245 - val_accuracy: 0.7232\n",
            "Epoch 63/150\n",
            "14/14 [==============================] - 10s 714ms/step - loss: 0.6122 - accuracy: 0.7835 - val_loss: 0.7814 - val_accuracy: 0.7232\n",
            "Epoch 64/150\n",
            "14/14 [==============================] - 10s 718ms/step - loss: 0.6440 - accuracy: 0.7411 - val_loss: 0.7680 - val_accuracy: 0.6518\n",
            "Epoch 65/150\n",
            "14/14 [==============================] - 10s 714ms/step - loss: 0.6216 - accuracy: 0.7567 - val_loss: 0.7927 - val_accuracy: 0.7143\n",
            "Epoch 66/150\n",
            "14/14 [==============================] - 10s 711ms/step - loss: 0.6226 - accuracy: 0.7567 - val_loss: 0.8730 - val_accuracy: 0.6875\n",
            "Epoch 67/150\n",
            "14/14 [==============================] - 10s 712ms/step - loss: 0.5650 - accuracy: 0.7656 - val_loss: 0.7218 - val_accuracy: 0.7232\n",
            "Epoch 68/150\n",
            "14/14 [==============================] - 10s 706ms/step - loss: 0.6363 - accuracy: 0.7567 - val_loss: 0.7197 - val_accuracy: 0.7589\n",
            "Epoch 69/150\n",
            "14/14 [==============================] - 10s 709ms/step - loss: 0.6013 - accuracy: 0.7746 - val_loss: 0.7148 - val_accuracy: 0.7857\n",
            "Epoch 70/150\n",
            "14/14 [==============================] - 10s 708ms/step - loss: 0.5591 - accuracy: 0.7656 - val_loss: 0.8230 - val_accuracy: 0.7411\n",
            "Epoch 71/150\n",
            "14/14 [==============================] - 10s 724ms/step - loss: 0.5538 - accuracy: 0.7656 - val_loss: 0.6409 - val_accuracy: 0.7589\n",
            "Epoch 72/150\n",
            "14/14 [==============================] - 10s 713ms/step - loss: 0.5622 - accuracy: 0.7701 - val_loss: 0.8262 - val_accuracy: 0.7232\n",
            "Epoch 73/150\n",
            "14/14 [==============================] - 10s 706ms/step - loss: 0.5488 - accuracy: 0.8036 - val_loss: 0.6619 - val_accuracy: 0.7054\n",
            "Epoch 74/150\n",
            "14/14 [==============================] - 10s 712ms/step - loss: 0.6354 - accuracy: 0.7612 - val_loss: 0.7386 - val_accuracy: 0.7500\n",
            "Epoch 75/150\n",
            "14/14 [==============================] - 10s 704ms/step - loss: 0.5532 - accuracy: 0.7812 - val_loss: 0.6373 - val_accuracy: 0.7589\n",
            "Epoch 76/150\n",
            "14/14 [==============================] - 10s 706ms/step - loss: 0.5876 - accuracy: 0.7545 - val_loss: 0.6878 - val_accuracy: 0.7589\n",
            "Epoch 77/150\n",
            "14/14 [==============================] - 10s 704ms/step - loss: 0.6336 - accuracy: 0.7634 - val_loss: 0.6557 - val_accuracy: 0.7589\n",
            "Epoch 78/150\n",
            "14/14 [==============================] - 10s 703ms/step - loss: 0.5333 - accuracy: 0.7790 - val_loss: 0.5690 - val_accuracy: 0.7232\n",
            "Epoch 79/150\n",
            "14/14 [==============================] - 10s 700ms/step - loss: 0.5675 - accuracy: 0.7656 - val_loss: 0.7240 - val_accuracy: 0.7143\n",
            "Epoch 80/150\n",
            "14/14 [==============================] - 10s 742ms/step - loss: 0.5034 - accuracy: 0.7902 - val_loss: 0.7082 - val_accuracy: 0.6786\n",
            "Epoch 81/150\n",
            "14/14 [==============================] - 10s 712ms/step - loss: 0.5067 - accuracy: 0.7812 - val_loss: 0.7868 - val_accuracy: 0.7589\n",
            "Epoch 82/150\n",
            "14/14 [==============================] - 10s 713ms/step - loss: 0.5928 - accuracy: 0.7612 - val_loss: 0.7864 - val_accuracy: 0.7054\n",
            "Epoch 83/150\n",
            "14/14 [==============================] - 10s 717ms/step - loss: 0.6054 - accuracy: 0.7366 - val_loss: 0.6488 - val_accuracy: 0.7321\n",
            "Epoch 84/150\n",
            "14/14 [==============================] - 10s 715ms/step - loss: 0.6648 - accuracy: 0.7746 - val_loss: 0.8839 - val_accuracy: 0.7232\n",
            "Epoch 85/150\n",
            "14/14 [==============================] - 10s 715ms/step - loss: 0.5058 - accuracy: 0.7902 - val_loss: 0.6555 - val_accuracy: 0.7768\n",
            "Epoch 86/150\n",
            "14/14 [==============================] - 10s 712ms/step - loss: 0.5353 - accuracy: 0.8013 - val_loss: 0.6942 - val_accuracy: 0.6875\n",
            "Epoch 87/150\n",
            "14/14 [==============================] - 10s 712ms/step - loss: 0.5005 - accuracy: 0.7924 - val_loss: 0.7864 - val_accuracy: 0.7054\n",
            "Epoch 88/150\n",
            "14/14 [==============================] - 10s 711ms/step - loss: 0.5792 - accuracy: 0.7545 - val_loss: 0.6954 - val_accuracy: 0.7054\n",
            "Epoch 89/150\n",
            "14/14 [==============================] - 10s 715ms/step - loss: 0.6359 - accuracy: 0.7545 - val_loss: 0.8146 - val_accuracy: 0.7679\n",
            "Epoch 90/150\n",
            "14/14 [==============================] - 10s 710ms/step - loss: 0.6100 - accuracy: 0.7723 - val_loss: 0.7061 - val_accuracy: 0.7857\n",
            "Epoch 91/150\n",
            "14/14 [==============================] - 10s 711ms/step - loss: 0.5553 - accuracy: 0.8103 - val_loss: 0.7265 - val_accuracy: 0.7321\n",
            "Epoch 92/150\n",
            "14/14 [==============================] - 10s 723ms/step - loss: 0.5146 - accuracy: 0.7768 - val_loss: 0.7424 - val_accuracy: 0.7232\n",
            "Epoch 93/150\n",
            "14/14 [==============================] - 10s 720ms/step - loss: 0.6198 - accuracy: 0.7723 - val_loss: 0.6632 - val_accuracy: 0.7143\n",
            "Epoch 94/150\n",
            "14/14 [==============================] - 10s 720ms/step - loss: 0.5468 - accuracy: 0.7902 - val_loss: 0.7615 - val_accuracy: 0.7500\n",
            "Epoch 95/150\n",
            "14/14 [==============================] - 10s 718ms/step - loss: 0.5545 - accuracy: 0.7969 - val_loss: 0.5090 - val_accuracy: 0.8036\n",
            "Epoch 96/150\n",
            "14/14 [==============================] - 10s 717ms/step - loss: 0.4808 - accuracy: 0.8192 - val_loss: 0.6961 - val_accuracy: 0.7411\n",
            "Epoch 97/150\n",
            "14/14 [==============================] - 10s 715ms/step - loss: 0.4676 - accuracy: 0.8460 - val_loss: 0.8137 - val_accuracy: 0.7143\n",
            "Epoch 98/150\n",
            "14/14 [==============================] - 10s 713ms/step - loss: 0.5809 - accuracy: 0.7812 - val_loss: 0.7556 - val_accuracy: 0.7679\n",
            "Epoch 99/150\n",
            "14/14 [==============================] - 10s 712ms/step - loss: 0.5988 - accuracy: 0.7723 - val_loss: 2.3635 - val_accuracy: 0.5000\n",
            "Epoch 100/150\n",
            "14/14 [==============================] - 10s 727ms/step - loss: 1.0110 - accuracy: 0.6451 - val_loss: 0.9127 - val_accuracy: 0.7232\n",
            "Epoch 101/150\n",
            "14/14 [==============================] - 10s 726ms/step - loss: 0.7973 - accuracy: 0.7009 - val_loss: 0.7673 - val_accuracy: 0.6964\n",
            "Epoch 102/150\n",
            "14/14 [==============================] - 10s 717ms/step - loss: 0.6844 - accuracy: 0.7210 - val_loss: 0.7030 - val_accuracy: 0.7054\n",
            "Epoch 103/150\n",
            "14/14 [==============================] - 10s 713ms/step - loss: 0.6035 - accuracy: 0.7656 - val_loss: 0.8860 - val_accuracy: 0.6696\n",
            "Epoch 104/150\n",
            "14/14 [==============================] - 10s 716ms/step - loss: 0.5934 - accuracy: 0.7589 - val_loss: 0.7182 - val_accuracy: 0.7054\n",
            "Epoch 105/150\n",
            "14/14 [==============================] - 10s 709ms/step - loss: 0.5309 - accuracy: 0.7946 - val_loss: 0.5527 - val_accuracy: 0.7857\n",
            "Epoch 106/150\n",
            "14/14 [==============================] - 10s 713ms/step - loss: 0.5595 - accuracy: 0.7746 - val_loss: 0.6032 - val_accuracy: 0.7679\n",
            "Epoch 107/150\n",
            "14/14 [==============================] - 10s 714ms/step - loss: 0.4890 - accuracy: 0.8214 - val_loss: 0.7277 - val_accuracy: 0.7679\n",
            "Epoch 108/150\n",
            "14/14 [==============================] - 10s 703ms/step - loss: 0.4669 - accuracy: 0.8080 - val_loss: 0.6641 - val_accuracy: 0.7768\n",
            "Epoch 109/150\n",
            "14/14 [==============================] - 10s 712ms/step - loss: 0.5287 - accuracy: 0.8125 - val_loss: 0.6936 - val_accuracy: 0.7500\n",
            "Epoch 110/150\n",
            "14/14 [==============================] - 10s 717ms/step - loss: 0.5377 - accuracy: 0.8214 - val_loss: 0.7468 - val_accuracy: 0.7500\n",
            "Epoch 111/150\n",
            "14/14 [==============================] - 10s 708ms/step - loss: 0.5035 - accuracy: 0.7969 - val_loss: 0.6788 - val_accuracy: 0.7500\n",
            "Epoch 112/150\n",
            "14/14 [==============================] - 10s 713ms/step - loss: 0.4873 - accuracy: 0.7991 - val_loss: 0.7422 - val_accuracy: 0.7232\n",
            "Epoch 113/150\n",
            "14/14 [==============================] - 10s 716ms/step - loss: 0.5518 - accuracy: 0.7902 - val_loss: 0.7249 - val_accuracy: 0.6964\n",
            "Epoch 114/150\n",
            "14/14 [==============================] - 10s 711ms/step - loss: 0.5064 - accuracy: 0.7835 - val_loss: 0.6814 - val_accuracy: 0.7321\n",
            "Epoch 115/150\n",
            "14/14 [==============================] - 10s 717ms/step - loss: 0.5138 - accuracy: 0.8147 - val_loss: 0.7078 - val_accuracy: 0.7500\n",
            "Epoch 116/150\n",
            "14/14 [==============================] - 10s 714ms/step - loss: 0.4622 - accuracy: 0.8192 - val_loss: 0.7609 - val_accuracy: 0.7411\n",
            "Epoch 117/150\n",
            "14/14 [==============================] - 10s 718ms/step - loss: 0.4726 - accuracy: 0.8147 - val_loss: 0.7593 - val_accuracy: 0.7143\n",
            "Epoch 118/150\n",
            "14/14 [==============================] - 10s 715ms/step - loss: 0.4412 - accuracy: 0.8371 - val_loss: 0.7790 - val_accuracy: 0.7143\n",
            "Epoch 119/150\n",
            "14/14 [==============================] - 10s 713ms/step - loss: 0.4937 - accuracy: 0.8147 - val_loss: 0.6122 - val_accuracy: 0.8214\n",
            "Epoch 120/150\n",
            "14/14 [==============================] - 10s 710ms/step - loss: 0.5297 - accuracy: 0.8036 - val_loss: 0.6153 - val_accuracy: 0.7679\n",
            "Epoch 121/150\n",
            "14/14 [==============================] - 10s 713ms/step - loss: 0.4570 - accuracy: 0.8259 - val_loss: 0.6549 - val_accuracy: 0.7589\n",
            "Epoch 122/150\n",
            "14/14 [==============================] - 10s 711ms/step - loss: 0.4699 - accuracy: 0.8080 - val_loss: 0.6986 - val_accuracy: 0.7054\n",
            "Epoch 123/150\n",
            "14/14 [==============================] - 10s 724ms/step - loss: 0.4292 - accuracy: 0.8304 - val_loss: 0.8834 - val_accuracy: 0.7679\n",
            "Epoch 124/150\n",
            "14/14 [==============================] - 10s 715ms/step - loss: 0.4814 - accuracy: 0.8125 - val_loss: 0.6400 - val_accuracy: 0.7679\n",
            "Epoch 125/150\n",
            "14/14 [==============================] - 10s 720ms/step - loss: 0.4702 - accuracy: 0.8125 - val_loss: 0.6897 - val_accuracy: 0.7143\n",
            "Epoch 126/150\n",
            "14/14 [==============================] - 10s 715ms/step - loss: 0.5605 - accuracy: 0.8036 - val_loss: 0.6417 - val_accuracy: 0.7321\n",
            "Epoch 127/150\n",
            "14/14 [==============================] - 10s 714ms/step - loss: 0.4655 - accuracy: 0.8147 - val_loss: 0.7552 - val_accuracy: 0.7589\n",
            "Epoch 128/150\n",
            "14/14 [==============================] - 10s 715ms/step - loss: 0.4347 - accuracy: 0.8371 - val_loss: 0.6795 - val_accuracy: 0.7500\n",
            "Epoch 129/150\n",
            "14/14 [==============================] - 10s 720ms/step - loss: 0.4153 - accuracy: 0.8415 - val_loss: 0.8127 - val_accuracy: 0.7500\n",
            "Epoch 130/150\n",
            "14/14 [==============================] - 10s 722ms/step - loss: 0.4676 - accuracy: 0.8147 - val_loss: 0.6092 - val_accuracy: 0.7679\n",
            "Epoch 131/150\n",
            "14/14 [==============================] - 10s 711ms/step - loss: 0.4029 - accuracy: 0.8728 - val_loss: 0.5523 - val_accuracy: 0.7679\n",
            "Epoch 132/150\n",
            "14/14 [==============================] - 10s 714ms/step - loss: 0.4532 - accuracy: 0.8214 - val_loss: 0.6929 - val_accuracy: 0.7143\n",
            "Epoch 133/150\n",
            "14/14 [==============================] - 10s 715ms/step - loss: 0.4261 - accuracy: 0.8304 - val_loss: 0.5937 - val_accuracy: 0.8036\n",
            "Epoch 134/150\n",
            "14/14 [==============================] - 10s 717ms/step - loss: 0.4739 - accuracy: 0.8348 - val_loss: 0.6220 - val_accuracy: 0.7321\n",
            "Epoch 135/150\n",
            "14/14 [==============================] - 10s 716ms/step - loss: 0.4469 - accuracy: 0.8304 - val_loss: 0.7081 - val_accuracy: 0.7768\n",
            "Epoch 136/150\n",
            "14/14 [==============================] - 10s 719ms/step - loss: 0.4057 - accuracy: 0.8438 - val_loss: 0.6258 - val_accuracy: 0.7857\n",
            "Epoch 137/150\n",
            "14/14 [==============================] - 10s 721ms/step - loss: 0.4510 - accuracy: 0.8237 - val_loss: 0.6549 - val_accuracy: 0.7946\n",
            "Epoch 138/150\n",
            "14/14 [==============================] - 10s 714ms/step - loss: 0.4715 - accuracy: 0.8371 - val_loss: 0.6407 - val_accuracy: 0.8036\n",
            "Epoch 139/150\n",
            "14/14 [==============================] - 10s 718ms/step - loss: 0.4551 - accuracy: 0.8058 - val_loss: 0.6308 - val_accuracy: 0.7768\n",
            "Epoch 140/150\n",
            "14/14 [==============================] - 10s 716ms/step - loss: 0.4769 - accuracy: 0.8192 - val_loss: 0.7258 - val_accuracy: 0.7500\n",
            "Epoch 141/150\n",
            "14/14 [==============================] - 10s 721ms/step - loss: 0.4053 - accuracy: 0.8482 - val_loss: 0.8490 - val_accuracy: 0.7589\n",
            "Epoch 142/150\n",
            "14/14 [==============================] - 10s 727ms/step - loss: 0.4259 - accuracy: 0.8415 - val_loss: 0.6284 - val_accuracy: 0.7768\n",
            "Epoch 143/150\n",
            "14/14 [==============================] - 10s 714ms/step - loss: 0.4188 - accuracy: 0.8549 - val_loss: 0.5473 - val_accuracy: 0.8214\n",
            "Epoch 144/150\n",
            "14/14 [==============================] - 10s 718ms/step - loss: 0.5319 - accuracy: 0.7812 - val_loss: 0.6925 - val_accuracy: 0.7679\n",
            "Epoch 145/150\n",
            "14/14 [==============================] - 10s 717ms/step - loss: 0.5236 - accuracy: 0.7790 - val_loss: 0.5390 - val_accuracy: 0.8304\n",
            "Epoch 146/150\n",
            "14/14 [==============================] - 10s 715ms/step - loss: 0.4714 - accuracy: 0.8058 - val_loss: 0.8279 - val_accuracy: 0.7321\n",
            "Epoch 147/150\n",
            "14/14 [==============================] - 10s 714ms/step - loss: 0.4391 - accuracy: 0.8326 - val_loss: 0.6820 - val_accuracy: 0.7321\n",
            "Epoch 148/150\n",
            "14/14 [==============================] - 10s 713ms/step - loss: 0.5557 - accuracy: 0.8058 - val_loss: 0.6503 - val_accuracy: 0.7411\n",
            "Epoch 149/150\n",
            "14/14 [==============================] - 10s 711ms/step - loss: 0.4823 - accuracy: 0.8058 - val_loss: 0.6941 - val_accuracy: 0.7589\n",
            "Epoch 150/150\n",
            "14/14 [==============================] - 10s 715ms/step - loss: 0.3789 - accuracy: 0.8482 - val_loss: 0.7425 - val_accuracy: 0.7143\n"
          ],
          "name": "stdout"
        }
      ]
    },
    {
      "cell_type": "code",
      "metadata": {
        "id": "Spd-0NCR7Ng4",
        "outputId": "f613c1f8-4770-4bda-cec8-b5f2cd818850",
        "colab": {
          "base_uri": "https://localhost:8080/",
          "height": 298
        }
      },
      "source": [
        "import matplotlib.pyplot as plt\n",
        "acc = history.history['accuracy']\n",
        "val_acc = history.history['val_accuracy']\n",
        "loss = history.history['loss']\n",
        "val_loss = history.history['val_loss']\n",
        "\n",
        "epochs = range(len(acc))\n",
        "\n",
        "plt.plot(epochs, acc, 'r', label='Training accuracy')\n",
        "plt.plot(epochs, val_acc, 'b', label='Validation accuracy')\n",
        "plt.title('Training and validation accuracy')\n",
        "plt.legend(loc=0)\n",
        "plt.figure()\n",
        "\n",
        "\n",
        "plt.show()"
      ],
      "execution_count": null,
      "outputs": [
        {
          "output_type": "display_data",
          "data": {
            "image/png": "[encoded data removed]",
            "text/plain": [
              "<Figure size 432x288 with 1 Axes>"
            ]
          },
          "metadata": {
            "tags": [],
            "needs_background": "light"
          }
        },
        {
          "output_type": "display_data",
          "data": {
            "text/plain": [
              "<Figure size 432x288 with 0 Axes>"
            ]
          },
          "metadata": {
            "tags": []
          }
        }
      ]
    },
    {
      "cell_type": "code",
      "metadata": {
        "id": "9AI3sn4x8oNB",
        "outputId": "bf663eee-a00a-49c5-a5cc-5a06bf8b51c8",
        "colab": {
          "base_uri": "https://localhost:8080/",
          "height": 34
        }
      },
      "source": [
        "print(trainGen.class_indices)"
      ],
      "execution_count": null,
      "outputs": [
        {
          "output_type": "stream",
          "text": [
            "{'basketball_court': 0, 'beach': 1, 'forest': 2, 'others': 3, 'railway': 4, 'swimming_pool': 5, 'tennis_court': 6}\n"
          ],
          "name": "stdout"
        }
      ]
    },
    {
      "cell_type": "code",
      "metadata": {
        "id": "A6Kan2sQB3sG",
        "outputId": "454aa3bc-02b4-4d04-d80a-f70639d2f638",
        "colab": {
          "base_uri": "https://localhost:8080/",
          "height": 34
        }
      },
      "source": [
        "import numpy as np\n",
        "\n",
        "def classes_order(f):\n",
        "  if f == 0:\n",
        "    return 1;\n",
        "  elif f == 1:\n",
        "    return 2;\n",
        "  elif f == 2:\n",
        "    return 3;\n",
        "  elif f == 3:\n",
        "    return 7;\n",
        "  elif f == 4:\n",
        "    return 4;\n",
        "  elif f == 5:\n",
        "    return 6;\n",
        "  else:\n",
        "    return 5;\n",
        "  \n",
        "\n",
        "path = \"/content/test_set/1001.jpg\"\n",
        "img = image.load_img(path, target_size=(150, 150))\n",
        "x = image.img_to_array(img)\n",
        "x = np.expand_dims(x, axis=0)\n",
        "classes = model.predict(x)\n",
        "f = classes.argmax()\n",
        "g = classes_order(f)\n",
        "print(g)"
      ],
      "execution_count": null,
      "outputs": [
        {
          "output_type": "stream",
          "text": [
            "5\n"
          ],
          "name": "stdout"
        }
      ]
    },
    {
      "cell_type": "code",
      "metadata": {
        "id": "7sW24g73CvET"
      },
      "source": [
        "import os\n",
        "\n",
        "directory = r'/content/test_set'\n",
        "j = []\n",
        "for entry in os.scandir(directory):\n",
        "    j.append(entry.name)"
      ],
      "execution_count": null,
      "outputs": []
    },
    {
      "cell_type": "code",
      "metadata": {
        "id": "jQ71vXccFP0T"
      },
      "source": [
        "j"
      ],
      "execution_count": null,
      "outputs": []
    },
    {
      "cell_type": "code",
      "metadata": {
        "id": "ftgo6oocGzPo"
      },
      "source": [
        "j.sort()"
      ],
      "execution_count": null,
      "outputs": []
    },
    {
      "cell_type": "code",
      "metadata": {
        "id": "WIN55g2IG56V"
      },
      "source": [
        "j"
      ],
      "execution_count": null,
      "outputs": []
    },
    {
      "cell_type": "code",
      "metadata": {
        "id": "zjrfHIn3bb_1",
        "outputId": "4fcc99f6-4f4d-4589-e670-fce3a6d324fe",
        "colab": {
          "base_uri": "https://localhost:8080/",
          "height": 1000
        }
      },
      "source": [
        "for i in range(0, len(j)):\n",
        "  path = \"/content/test_set/\" + j[i]\n",
        "  img = image.load_img(path, target_size=(256, 256))\n",
        "  x = image.img_to_array(img)\n",
        "  x = np.expand_dims(x, axis=0)\n",
        "  classes = model.predict(x)\n",
        "  f = classes.argmax()\n",
        "  g = classes_order(f)\n",
        "  print(j[i].split(\".\")[0] + \", \" + g)"
      ],
      "execution_count": null,
      "outputs": [
        {
          "output_type": "stream",
          "text": [
            "1001,5\n",
            "1002,7\n",
            "1003,7\n",
            "1004,7\n",
            "1005,7\n",
            "1006,5\n",
            "1007,2\n",
            "1008,7\n",
            "1009,7\n",
            "1010,6\n",
            "1011,7\n",
            "1012,2\n",
            "1013,1\n",
            "1014,7\n",
            "1015,7\n",
            "1016,4\n",
            "1017,2\n",
            "1018,6\n",
            "1019,4\n",
            "1020,7\n",
            "1021,6\n",
            "1022,7\n",
            "1023,4\n",
            "1024,7\n",
            "1025,4\n",
            "1026,5\n",
            "1027,7\n",
            "1028,7\n",
            "1029,6\n",
            "1030,7\n",
            "1031,2\n",
            "1032,6\n",
            "1033,4\n",
            "1034,6\n",
            "1035,5\n",
            "1036,1\n",
            "1037,7\n",
            "1038,7\n",
            "1039,1\n",
            "1040,7\n",
            "1041,7\n",
            "1042,7\n",
            "1043,2\n",
            "1044,4\n",
            "1045,7\n",
            "1046,2\n",
            "1047,6\n",
            "1048,5\n",
            "1049,7\n",
            "1050,6\n",
            "1051,6\n",
            "1052,2\n",
            "1053,7\n",
            "1054,7\n",
            "1055,7\n",
            "1056,4\n",
            "1057,7\n",
            "1058,1\n",
            "1059,7\n",
            "1060,4\n",
            "1061,7\n",
            "1062,4\n",
            "1063,4\n",
            "1064,2\n",
            "1065,7\n",
            "1066,7\n",
            "1067,2\n",
            "1068,6\n",
            "1069,1\n",
            "1070,7\n",
            "1071,4\n",
            "1072,4\n",
            "1073,2\n",
            "1074,4\n",
            "1075,7\n",
            "1076,7\n",
            "1077,2\n",
            "1078,6\n",
            "1079,7\n",
            "1080,7\n",
            "1081,5\n",
            "1082,2\n",
            "1083,2\n",
            "1084,4\n",
            "1085,6\n",
            "1086,5\n",
            "1087,6\n",
            "1088,4\n",
            "1089,7\n",
            "1090,7\n",
            "1091,4\n",
            "1092,6\n",
            "1093,6\n",
            "1094,1\n",
            "1095,2\n"
          ],
          "name": "stdout"
        }
      ]
    },
    {
      "cell_type": "code",
      "metadata": {
        "id": "hB3CZ5UrbkzI"
      },
      "source": [
        ""
      ],
      "execution_count": null,
      "outputs": []
    }
  ]
}